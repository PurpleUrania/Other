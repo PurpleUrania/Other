{
 "cells": [
  {
   "cell_type": "code",
   "execution_count": 1,
   "id": "c4822c01",
   "metadata": {},
   "outputs": [
    {
     "data": {
      "text/html": [
       "<div>\n",
       "<style scoped>\n",
       "    .dataframe tbody tr th:only-of-type {\n",
       "        vertical-align: middle;\n",
       "    }\n",
       "\n",
       "    .dataframe tbody tr th {\n",
       "        vertical-align: top;\n",
       "    }\n",
       "\n",
       "    .dataframe thead th {\n",
       "        text-align: right;\n",
       "    }\n",
       "</style>\n",
       "<table border=\"1\" class=\"dataframe\">\n",
       "  <thead>\n",
       "    <tr style=\"text-align: right;\">\n",
       "      <th></th>\n",
       "      <th>Unnamed: 0</th>\n",
       "      <th>_id</th>\n",
       "      <th>inter_api_access_duration(sec)</th>\n",
       "      <th>api_access_uniqueness</th>\n",
       "      <th>sequence_length(count)</th>\n",
       "      <th>vsession_duration(min)</th>\n",
       "      <th>ip_type</th>\n",
       "      <th>num_sessions</th>\n",
       "      <th>num_users</th>\n",
       "      <th>num_unique_apis</th>\n",
       "      <th>source</th>\n",
       "      <th>classification</th>\n",
       "    </tr>\n",
       "  </thead>\n",
       "  <tbody>\n",
       "    <tr>\n",
       "      <th>0</th>\n",
       "      <td>0</td>\n",
       "      <td>1f2c32d8-2d6e-3b68-bc46-789469f2b71e</td>\n",
       "      <td>0.000812</td>\n",
       "      <td>0.004066</td>\n",
       "      <td>85.643243</td>\n",
       "      <td>5405</td>\n",
       "      <td>default</td>\n",
       "      <td>1460.0</td>\n",
       "      <td>1295.0</td>\n",
       "      <td>451.0</td>\n",
       "      <td>E</td>\n",
       "      <td>normal</td>\n",
       "    </tr>\n",
       "    <tr>\n",
       "      <th>1</th>\n",
       "      <td>1</td>\n",
       "      <td>4c486414-d4f5-33f6-b485-24a8ed2925e8</td>\n",
       "      <td>0.000063</td>\n",
       "      <td>0.002211</td>\n",
       "      <td>16.166805</td>\n",
       "      <td>519</td>\n",
       "      <td>default</td>\n",
       "      <td>9299.0</td>\n",
       "      <td>8447.0</td>\n",
       "      <td>302.0</td>\n",
       "      <td>E</td>\n",
       "      <td>normal</td>\n",
       "    </tr>\n",
       "    <tr>\n",
       "      <th>2</th>\n",
       "      <td>2</td>\n",
       "      <td>7e5838fc-bce1-371f-a3ac-d8a0b2a05d9a</td>\n",
       "      <td>0.004481</td>\n",
       "      <td>0.015324</td>\n",
       "      <td>99.573276</td>\n",
       "      <td>6211</td>\n",
       "      <td>default</td>\n",
       "      <td>255.0</td>\n",
       "      <td>232.0</td>\n",
       "      <td>354.0</td>\n",
       "      <td>E</td>\n",
       "      <td>normal</td>\n",
       "    </tr>\n",
       "    <tr>\n",
       "      <th>3</th>\n",
       "      <td>3</td>\n",
       "      <td>82661ecd-d87f-3dff-855e-378f7cb6d912</td>\n",
       "      <td>0.017837</td>\n",
       "      <td>0.014974</td>\n",
       "      <td>69.792793</td>\n",
       "      <td>8292</td>\n",
       "      <td>default</td>\n",
       "      <td>195.0</td>\n",
       "      <td>111.0</td>\n",
       "      <td>116.0</td>\n",
       "      <td>E</td>\n",
       "      <td>normal</td>\n",
       "    </tr>\n",
       "    <tr>\n",
       "      <th>4</th>\n",
       "      <td>4</td>\n",
       "      <td>d62d56ea-775e-328c-8b08-db7ad7f834e5</td>\n",
       "      <td>0.000797</td>\n",
       "      <td>0.006056</td>\n",
       "      <td>14.952756</td>\n",
       "      <td>182</td>\n",
       "      <td>default</td>\n",
       "      <td>272.0</td>\n",
       "      <td>254.0</td>\n",
       "      <td>23.0</td>\n",
       "      <td>E</td>\n",
       "      <td>normal</td>\n",
       "    </tr>\n",
       "  </tbody>\n",
       "</table>\n",
       "</div>"
      ],
      "text/plain": [
       "   Unnamed: 0                                   _id  \\\n",
       "0           0  1f2c32d8-2d6e-3b68-bc46-789469f2b71e   \n",
       "1           1  4c486414-d4f5-33f6-b485-24a8ed2925e8   \n",
       "2           2  7e5838fc-bce1-371f-a3ac-d8a0b2a05d9a   \n",
       "3           3  82661ecd-d87f-3dff-855e-378f7cb6d912   \n",
       "4           4  d62d56ea-775e-328c-8b08-db7ad7f834e5   \n",
       "\n",
       "   inter_api_access_duration(sec)  api_access_uniqueness  \\\n",
       "0                        0.000812               0.004066   \n",
       "1                        0.000063               0.002211   \n",
       "2                        0.004481               0.015324   \n",
       "3                        0.017837               0.014974   \n",
       "4                        0.000797               0.006056   \n",
       "\n",
       "   sequence_length(count)  vsession_duration(min)  ip_type  num_sessions  \\\n",
       "0               85.643243                    5405  default        1460.0   \n",
       "1               16.166805                     519  default        9299.0   \n",
       "2               99.573276                    6211  default         255.0   \n",
       "3               69.792793                    8292  default         195.0   \n",
       "4               14.952756                     182  default         272.0   \n",
       "\n",
       "   num_users  num_unique_apis source classification  \n",
       "0     1295.0            451.0      E         normal  \n",
       "1     8447.0            302.0      E         normal  \n",
       "2      232.0            354.0      E         normal  \n",
       "3      111.0            116.0      E         normal  \n",
       "4      254.0             23.0      E         normal  "
      ]
     },
     "execution_count": 1,
     "metadata": {},
     "output_type": "execute_result"
    }
   ],
   "source": [
    "import pandas as pd\n",
    "import numpy as np\n",
    "import matplotlib.pyplot as plt\n",
    "import seaborn as sns\n",
    "\n",
    "from sklearn.preprocessing import LabelEncoder\n",
    "from sklearn.preprocessing import MinMaxScaler\n",
    "from sklearn.metrics import accuracy_score\n",
    "from sklearn.metrics import classification_report\n",
    "from sklearn.metrics import confusion_matrix\n",
    "from sklearn.model_selection import train_test_split\n",
    "from sklearn.tree import DecisionTreeClassifier\n",
    "from sklearn.neighbors import KNeighborsClassifier\n",
    "from sklearn.svm import SVC\n",
    "from sklearn.model_selection import GridSearchCV\n",
    "from sklearn.tree import plot_tree\n",
    "low_memory=False\n",
    "\n",
    "df = pd.read_csv(\"D:\\Downloads\\supervised_dataset.csv\",sep=\",\", low_memory=False)  #завантажит дані\n",
    "df.head()"
   ]
  },
  {
   "cell_type": "code",
   "execution_count": 2,
   "id": "dde6c5fa",
   "metadata": {},
   "outputs": [
    {
     "name": "stdout",
     "output_type": "stream",
     "text": [
      "<class 'pandas.core.frame.DataFrame'>\n",
      "RangeIndex: 1695 entries, 0 to 1694\n",
      "Data columns (total 12 columns):\n",
      " #   Column                          Non-Null Count  Dtype  \n",
      "---  ------                          --------------  -----  \n",
      " 0   Unnamed: 0                      1695 non-null   int64  \n",
      " 1   _id                             1695 non-null   object \n",
      " 2   inter_api_access_duration(sec)  1695 non-null   float64\n",
      " 3   api_access_uniqueness           1695 non-null   float64\n",
      " 4   sequence_length(count)          1695 non-null   float64\n",
      " 5   vsession_duration(min)          1695 non-null   int64  \n",
      " 6   ip_type                         1695 non-null   object \n",
      " 7   num_sessions                    1695 non-null   float64\n",
      " 8   num_users                       1695 non-null   float64\n",
      " 9   num_unique_apis                 1695 non-null   float64\n",
      " 10  source                          1695 non-null   object \n",
      " 11  classification                  1695 non-null   object \n",
      "dtypes: float64(6), int64(2), object(4)\n",
      "memory usage: 159.0+ KB\n"
     ]
    }
   ],
   "source": [
    "df.info()"
   ]
  },
  {
   "cell_type": "code",
   "execution_count": 3,
   "id": "346f4e27",
   "metadata": {},
   "outputs": [
    {
     "data": {
      "text/plain": [
       "0    1542\n",
       "1     153\n",
       "Name: ip_type, dtype: int64"
      ]
     },
     "execution_count": 3,
     "metadata": {},
     "output_type": "execute_result"
    }
   ],
   "source": [
    "s = df['ip_type']\n",
    "s, unique = pd.factorize(s)  #кожний клас отримає int мітку\n",
    "df['ip_type'] = s \n",
    "df['ip_type'].value_counts()"
   ]
  },
  {
   "cell_type": "code",
   "execution_count": 4,
   "id": "f53845bb",
   "metadata": {},
   "outputs": [
    {
     "data": {
      "text/plain": [
       "0    1495\n",
       "1     200\n",
       "Name: source, dtype: int64"
      ]
     },
     "execution_count": 4,
     "metadata": {},
     "output_type": "execute_result"
    }
   ],
   "source": [
    "s = df['source']\n",
    "s, unique = pd.factorize(s) \n",
    "df['source'] = s \n",
    "df['source'].value_counts()"
   ]
  },
  {
   "cell_type": "code",
   "execution_count": 5,
   "id": "bb58eb24",
   "metadata": {},
   "outputs": [
    {
     "data": {
      "text/plain": [
       "0    1106\n",
       "1     589\n",
       "Name: classification, dtype: int64"
      ]
     },
     "execution_count": 5,
     "metadata": {},
     "output_type": "execute_result"
    }
   ],
   "source": [
    "s = df['classification']\n",
    "s, unique = pd.factorize(s) \n",
    "df['classification'] = s \n",
    "df['classification'].value_counts()"
   ]
  },
  {
   "cell_type": "code",
   "execution_count": 6,
   "id": "91645cc4",
   "metadata": {},
   "outputs": [],
   "source": [
    "df=df.drop([ '_id','Unnamed: 0'], axis = 1)"
   ]
  },
  {
   "cell_type": "code",
   "execution_count": 7,
   "id": "1edf667f",
   "metadata": {},
   "outputs": [
    {
     "name": "stdout",
     "output_type": "stream",
     "text": [
      "<class 'pandas.core.frame.DataFrame'>\n",
      "RangeIndex: 1695 entries, 0 to 1694\n",
      "Data columns (total 10 columns):\n",
      " #   Column                          Non-Null Count  Dtype  \n",
      "---  ------                          --------------  -----  \n",
      " 0   inter_api_access_duration(sec)  1695 non-null   float64\n",
      " 1   api_access_uniqueness           1695 non-null   float64\n",
      " 2   sequence_length(count)          1695 non-null   float64\n",
      " 3   vsession_duration(min)          1695 non-null   int64  \n",
      " 4   ip_type                         1695 non-null   int64  \n",
      " 5   num_sessions                    1695 non-null   float64\n",
      " 6   num_users                       1695 non-null   float64\n",
      " 7   num_unique_apis                 1695 non-null   float64\n",
      " 8   source                          1695 non-null   int64  \n",
      " 9   classification                  1695 non-null   int64  \n",
      "dtypes: float64(6), int64(4)\n",
      "memory usage: 132.5 KB\n"
     ]
    }
   ],
   "source": [
    "df.info()"
   ]
  },
  {
   "cell_type": "code",
   "execution_count": 8,
   "id": "f9235d04",
   "metadata": {},
   "outputs": [
    {
     "data": {
      "text/html": [
       "<div>\n",
       "<style scoped>\n",
       "    .dataframe tbody tr th:only-of-type {\n",
       "        vertical-align: middle;\n",
       "    }\n",
       "\n",
       "    .dataframe tbody tr th {\n",
       "        vertical-align: top;\n",
       "    }\n",
       "\n",
       "    .dataframe thead th {\n",
       "        text-align: right;\n",
       "    }\n",
       "</style>\n",
       "<table border=\"1\" class=\"dataframe\">\n",
       "  <thead>\n",
       "    <tr style=\"text-align: right;\">\n",
       "      <th></th>\n",
       "      <th>inter_api_access_duration(sec)</th>\n",
       "      <th>api_access_uniqueness</th>\n",
       "      <th>sequence_length(count)</th>\n",
       "      <th>vsession_duration(min)</th>\n",
       "      <th>ip_type</th>\n",
       "      <th>num_sessions</th>\n",
       "      <th>num_users</th>\n",
       "      <th>num_unique_apis</th>\n",
       "      <th>source</th>\n",
       "      <th>classification</th>\n",
       "    </tr>\n",
       "  </thead>\n",
       "  <tbody>\n",
       "    <tr>\n",
       "      <th>inter_api_access_duration(sec)</th>\n",
       "      <td>NaN</td>\n",
       "      <td>0.072424</td>\n",
       "      <td>-0.003418</td>\n",
       "      <td>0.149669</td>\n",
       "      <td>0.092723</td>\n",
       "      <td>-0.033008</td>\n",
       "      <td>-0.029199</td>\n",
       "      <td>-0.047715</td>\n",
       "      <td>0.082434</td>\n",
       "      <td>0.094405</td>\n",
       "    </tr>\n",
       "    <tr>\n",
       "      <th>api_access_uniqueness</th>\n",
       "      <td>0.072424</td>\n",
       "      <td>NaN</td>\n",
       "      <td>-0.080800</td>\n",
       "      <td>-0.006048</td>\n",
       "      <td>0.252347</td>\n",
       "      <td>-0.275642</td>\n",
       "      <td>-0.247108</td>\n",
       "      <td>-0.392042</td>\n",
       "      <td>-0.091384</td>\n",
       "      <td>0.767884</td>\n",
       "    </tr>\n",
       "    <tr>\n",
       "      <th>sequence_length(count)</th>\n",
       "      <td>-0.003418</td>\n",
       "      <td>-0.080800</td>\n",
       "      <td>NaN</td>\n",
       "      <td>0.142744</td>\n",
       "      <td>0.104891</td>\n",
       "      <td>-0.084133</td>\n",
       "      <td>-0.080589</td>\n",
       "      <td>0.018244</td>\n",
       "      <td>-0.086309</td>\n",
       "      <td>0.249645</td>\n",
       "    </tr>\n",
       "    <tr>\n",
       "      <th>vsession_duration(min)</th>\n",
       "      <td>0.149669</td>\n",
       "      <td>-0.006048</td>\n",
       "      <td>0.142744</td>\n",
       "      <td>NaN</td>\n",
       "      <td>-0.021580</td>\n",
       "      <td>-0.043159</td>\n",
       "      <td>-0.035166</td>\n",
       "      <td>-0.013865</td>\n",
       "      <td>-0.027222</td>\n",
       "      <td>0.114413</td>\n",
       "    </tr>\n",
       "    <tr>\n",
       "      <th>ip_type</th>\n",
       "      <td>0.092723</td>\n",
       "      <td>0.252347</td>\n",
       "      <td>0.104891</td>\n",
       "      <td>-0.021580</td>\n",
       "      <td>NaN</td>\n",
       "      <td>-0.148365</td>\n",
       "      <td>-0.133099</td>\n",
       "      <td>-0.210821</td>\n",
       "      <td>-0.051394</td>\n",
       "      <td>0.431642</td>\n",
       "    </tr>\n",
       "    <tr>\n",
       "      <th>num_sessions</th>\n",
       "      <td>-0.033008</td>\n",
       "      <td>-0.275642</td>\n",
       "      <td>-0.084133</td>\n",
       "      <td>-0.043159</td>\n",
       "      <td>-0.148365</td>\n",
       "      <td>NaN</td>\n",
       "      <td>0.929199</td>\n",
       "      <td>0.525890</td>\n",
       "      <td>-0.138609</td>\n",
       "      <td>-0.343982</td>\n",
       "    </tr>\n",
       "    <tr>\n",
       "      <th>num_users</th>\n",
       "      <td>-0.029199</td>\n",
       "      <td>-0.247108</td>\n",
       "      <td>-0.080589</td>\n",
       "      <td>-0.035166</td>\n",
       "      <td>-0.133099</td>\n",
       "      <td>0.929199</td>\n",
       "      <td>NaN</td>\n",
       "      <td>0.541066</td>\n",
       "      <td>-0.110880</td>\n",
       "      <td>-0.308356</td>\n",
       "    </tr>\n",
       "    <tr>\n",
       "      <th>num_unique_apis</th>\n",
       "      <td>-0.047715</td>\n",
       "      <td>-0.392042</td>\n",
       "      <td>0.018244</td>\n",
       "      <td>-0.013865</td>\n",
       "      <td>-0.210821</td>\n",
       "      <td>0.525890</td>\n",
       "      <td>0.541066</td>\n",
       "      <td>NaN</td>\n",
       "      <td>-0.217218</td>\n",
       "      <td>-0.450704</td>\n",
       "    </tr>\n",
       "    <tr>\n",
       "      <th>source</th>\n",
       "      <td>0.082434</td>\n",
       "      <td>-0.091384</td>\n",
       "      <td>-0.086309</td>\n",
       "      <td>-0.027222</td>\n",
       "      <td>-0.051394</td>\n",
       "      <td>-0.138609</td>\n",
       "      <td>-0.110880</td>\n",
       "      <td>-0.217218</td>\n",
       "      <td>NaN</td>\n",
       "      <td>-0.151698</td>\n",
       "    </tr>\n",
       "    <tr>\n",
       "      <th>classification</th>\n",
       "      <td>0.094405</td>\n",
       "      <td>0.767884</td>\n",
       "      <td>0.249645</td>\n",
       "      <td>0.114413</td>\n",
       "      <td>0.431642</td>\n",
       "      <td>-0.343982</td>\n",
       "      <td>-0.308356</td>\n",
       "      <td>-0.450704</td>\n",
       "      <td>-0.151698</td>\n",
       "      <td>NaN</td>\n",
       "    </tr>\n",
       "  </tbody>\n",
       "</table>\n",
       "</div>"
      ],
      "text/plain": [
       "                                inter_api_access_duration(sec)  \\\n",
       "inter_api_access_duration(sec)                             NaN   \n",
       "api_access_uniqueness                                 0.072424   \n",
       "sequence_length(count)                               -0.003418   \n",
       "vsession_duration(min)                                0.149669   \n",
       "ip_type                                               0.092723   \n",
       "num_sessions                                         -0.033008   \n",
       "num_users                                            -0.029199   \n",
       "num_unique_apis                                      -0.047715   \n",
       "source                                                0.082434   \n",
       "classification                                        0.094405   \n",
       "\n",
       "                                api_access_uniqueness  sequence_length(count)  \\\n",
       "inter_api_access_duration(sec)               0.072424               -0.003418   \n",
       "api_access_uniqueness                             NaN               -0.080800   \n",
       "sequence_length(count)                      -0.080800                     NaN   \n",
       "vsession_duration(min)                      -0.006048                0.142744   \n",
       "ip_type                                      0.252347                0.104891   \n",
       "num_sessions                                -0.275642               -0.084133   \n",
       "num_users                                   -0.247108               -0.080589   \n",
       "num_unique_apis                             -0.392042                0.018244   \n",
       "source                                      -0.091384               -0.086309   \n",
       "classification                               0.767884                0.249645   \n",
       "\n",
       "                                vsession_duration(min)   ip_type  \\\n",
       "inter_api_access_duration(sec)                0.149669  0.092723   \n",
       "api_access_uniqueness                        -0.006048  0.252347   \n",
       "sequence_length(count)                        0.142744  0.104891   \n",
       "vsession_duration(min)                             NaN -0.021580   \n",
       "ip_type                                      -0.021580       NaN   \n",
       "num_sessions                                 -0.043159 -0.148365   \n",
       "num_users                                    -0.035166 -0.133099   \n",
       "num_unique_apis                              -0.013865 -0.210821   \n",
       "source                                       -0.027222 -0.051394   \n",
       "classification                                0.114413  0.431642   \n",
       "\n",
       "                                num_sessions  num_users  num_unique_apis  \\\n",
       "inter_api_access_duration(sec)     -0.033008  -0.029199        -0.047715   \n",
       "api_access_uniqueness              -0.275642  -0.247108        -0.392042   \n",
       "sequence_length(count)             -0.084133  -0.080589         0.018244   \n",
       "vsession_duration(min)             -0.043159  -0.035166        -0.013865   \n",
       "ip_type                            -0.148365  -0.133099        -0.210821   \n",
       "num_sessions                             NaN   0.929199         0.525890   \n",
       "num_users                           0.929199        NaN         0.541066   \n",
       "num_unique_apis                     0.525890   0.541066              NaN   \n",
       "source                             -0.138609  -0.110880        -0.217218   \n",
       "classification                     -0.343982  -0.308356        -0.450704   \n",
       "\n",
       "                                  source  classification  \n",
       "inter_api_access_duration(sec)  0.082434        0.094405  \n",
       "api_access_uniqueness          -0.091384        0.767884  \n",
       "sequence_length(count)         -0.086309        0.249645  \n",
       "vsession_duration(min)         -0.027222        0.114413  \n",
       "ip_type                        -0.051394        0.431642  \n",
       "num_sessions                   -0.138609       -0.343982  \n",
       "num_users                      -0.110880       -0.308356  \n",
       "num_unique_apis                -0.217218       -0.450704  \n",
       "source                               NaN       -0.151698  \n",
       "classification                 -0.151698             NaN  "
      ]
     },
     "execution_count": 8,
     "metadata": {},
     "output_type": "execute_result"
    }
   ],
   "source": [
    "corr = df.corr()  #кореляція між фічами, чим більше по модулю, тим більша залежність\n",
    "np.fill_diagonal(corr.values, 0)\n",
    "corr.replace(0, np.nan, inplace=True)\n",
    "corr"
   ]
  },
  {
   "cell_type": "code",
   "execution_count": 9,
   "id": "e694af91",
   "metadata": {},
   "outputs": [],
   "source": [
    "df=df.drop([ 'inter_api_access_duration(sec)'], axis = 1)"
   ]
  },
  {
   "cell_type": "code",
   "execution_count": 10,
   "id": "eb12de8e",
   "metadata": {},
   "outputs": [],
   "source": [
    "trgt = [\"classification\"]      \n",
    "dfprep = df.columns.drop(trgt) #викидаємо класифікації\n",
    "train,test = train_test_split(df,test_size = 0.33)  #розбиваємо датасет на тренувальну/тестову вибірку\n",
    "xTrain = train[dfprep]\n",
    "yTrain = train[trgt]\n",
    "xTest  = test[dfprep]\n",
    "yTest = test[trgt]"
   ]
  },
  {
   "cell_type": "code",
   "execution_count": 11,
   "id": "62b66423",
   "metadata": {},
   "outputs": [
    {
     "name": "stdout",
     "output_type": "stream",
     "text": [
      "              precision    recall  f1-score   support\n",
      "\n",
      "           0       1.00      1.00      1.00       367\n",
      "           1       1.00      1.00      1.00       193\n",
      "\n",
      "    accuracy                           1.00       560\n",
      "   macro avg       1.00      1.00      1.00       560\n",
      "weighted avg       1.00      1.00      1.00       560\n",
      "\n"
     ]
    },
    {
     "data": {
      "text/plain": [
       "<AxesSubplot:>"
      ]
     },
     "execution_count": 11,
     "metadata": {},
     "output_type": "execute_result"
    },
    {
     "data": {
      "image/png": "[encoded data removed]",
      "text/plain": [
       "<Figure size 432x288 with 2 Axes>"
      ]
     },
     "metadata": {
      "needs_background": "light"
     },
     "output_type": "display_data"
    }
   ],
   "source": [
    "from sklearn.naive_bayes import GaussianNB  #Алгоритм Байєсa\n",
    "nb = GaussianNB()\n",
    "nb.fit(xTrain,yTrain.values.ravel())\n",
    "yPred = nb.predict(xTest)\n",
    "accuracy_score(yTest,yPred)\n",
    "print(classification_report(yTest,yPred))\n",
    "sns.heatmap(confusion_matrix(yTest,yPred),annot=True)"
   ]
  },
  {
   "cell_type": "code",
   "execution_count": 12,
   "id": "4bfbf441",
   "metadata": {},
   "outputs": [
    {
     "name": "stdout",
     "output_type": "stream",
     "text": [
      "The best score is 0.9709251101321585\n",
      "The best parameters are:\n",
      " KNeighborsClassifier(n_neighbors=3)\n"
     ]
    }
   ],
   "source": [
    "param_grid ={'n_neighbors': [3,5,7,9,11]}   #к-сть сусідів, що перевір\n",
    "knnModel = KNeighborsClassifier()    #кнн алгоритм\n",
    "grid_search=GridSearchCV(knnModel, param_grid,cv=5, return_train_score=True)\n",
    "grid_search.fit(xTrain, yTrain.values.ravel())                       #процесс обучения, подгонка\n",
    "results = pd.DataFrame(grid_search.cv_results_)  #запис результатів передбачення\n",
    "print(\"The best score is\", grid_search.best_score_) # оптимальні параметри\n",
    "print(\"The best parameters are:\\n\", grid_search.best_estimator_) #best is 11"
   ]
  },
  {
   "cell_type": "code",
   "execution_count": 13,
   "id": "78312ce7",
   "metadata": {},
   "outputs": [
    {
     "name": "stdout",
     "output_type": "stream",
     "text": [
      "              precision    recall  f1-score   support\n",
      "\n",
      "           0       0.98      0.99      0.98       367\n",
      "           1       0.98      0.95      0.97       193\n",
      "\n",
      "    accuracy                           0.98       560\n",
      "   macro avg       0.98      0.97      0.97       560\n",
      "weighted avg       0.98      0.98      0.98       560\n",
      "\n"
     ]
    },
    {
     "data": {
      "text/plain": [
       "<AxesSubplot:>"
      ]
     },
     "execution_count": 13,
     "metadata": {},
     "output_type": "execute_result"
    },
    {
     "data": {
      "image/png": "[encoded data removed]",
      "text/plain": [
       "<Figure size 432x288 with 2 Axes>"
      ]
     },
     "metadata": {
      "needs_background": "light"
     },
     "output_type": "display_data"
    }
   ],
   "source": [
    "knnModel = KNeighborsClassifier(n_neighbors=3) #knn метод \n",
    "knnModel.fit(xTrain,yTrain.values.ravel())\n",
    "yPred= knnModel.predict(xTest)\n",
    "accuracy_score(yTest,yPred)\n",
    "print(classification_report(yTest,yPred))\n",
    "sns.heatmap(confusion_matrix(yTest,yPred),annot=True)"
   ]
  },
  {
   "cell_type": "code",
   "execution_count": 14,
   "id": "f1cf554d",
   "metadata": {},
   "outputs": [
    {
     "name": "stdout",
     "output_type": "stream",
     "text": [
      "              precision    recall  f1-score   support\n",
      "\n",
      "           0       1.00      1.00      1.00       367\n",
      "           1       1.00      1.00      1.00       193\n",
      "\n",
      "    accuracy                           1.00       560\n",
      "   macro avg       1.00      1.00      1.00       560\n",
      "weighted avg       1.00      1.00      1.00       560\n",
      "\n"
     ]
    },
    {
     "data": {
      "text/plain": [
       "<AxesSubplot:>"
      ]
     },
     "execution_count": 14,
     "metadata": {},
     "output_type": "execute_result"
    },
    {
     "data": {
      "image/png": "[encoded data removed]",
      "text/plain": [
       "<Figure size 432x288 with 2 Axes>"
      ]
     },
     "metadata": {
      "needs_background": "light"
     },
     "output_type": "display_data"
    }
   ],
   "source": [
    "from sklearn.linear_model import LogisticRegression  #логістична регресія\n",
    "clf = LogisticRegression(max_iter=1000)\n",
    "clf.fit(xTrain,yTrain.values.ravel())\n",
    "yPred = clf.predict(xTest)\n",
    "accuracy_score(yTest,yPred)\n",
    "print(classification_report(yTest,yPred))\n",
    "sns.heatmap(confusion_matrix(yTest,yPred),annot=True)"
   ]
  },
  {
   "cell_type": "code",
   "execution_count": 15,
   "id": "a7b10fc7",
   "metadata": {},
   "outputs": [
    {
     "name": "stdout",
     "output_type": "stream",
     "text": [
      "The best score is 0.8317180616740089\n",
      "The best parameters are:\n",
      " SVC(C=10, gamma=0.01)\n"
     ]
    }
   ],
   "source": [
    "param_grid = {'C': [0.1, 1, 10, 25],'gamma': [0.1, 0.05, 0.03, 0.07, 0.01]} #1|c- избежать неправильной классификации\n",
    "SVC_clsfr = SVC(kernel='rbf')   # гамма - область принятие решения, разброс\n",
    "grid_search = GridSearchCV(SVC_clsfr, param_grid,      #радиально базисне ядро\n",
    "                           return_train_score=True)\n",
    "grid_search.fit(xTrain, yTrain.values.ravel())\n",
    "results = pd.DataFrame(grid_search.cv_results_)\n",
    "print(\"The best score is\", grid_search.best_score_) \n",
    "print(\"The best parameters are:\\n\", grid_search.best_estimator_)"
   ]
  },
  {
   "cell_type": "code",
   "execution_count": 16,
   "id": "9382ee61",
   "metadata": {},
   "outputs": [
    {
     "name": "stdout",
     "output_type": "stream",
     "text": [
      "              precision    recall  f1-score   support\n",
      "\n",
      "           0       0.74      1.00      0.85       367\n",
      "           1       1.00      0.34      0.51       193\n",
      "\n",
      "    accuracy                           0.77       560\n",
      "   macro avg       0.87      0.67      0.68       560\n",
      "weighted avg       0.83      0.77      0.73       560\n",
      "\n"
     ]
    },
    {
     "data": {
      "text/plain": [
       "<AxesSubplot:>"
      ]
     },
     "execution_count": 16,
     "metadata": {},
     "output_type": "execute_result"
    },
    {
     "data": {
      "image/png": "[encoded data removed]",
      "text/plain": [
       "<Figure size 432x288 with 2 Axes>"
      ]
     },
     "metadata": {
      "needs_background": "light"
     },
     "output_type": "display_data"
    }
   ],
   "source": [
    "SVC_clsfr = SVC(kernel='rbf', C=10, gamma=0.1)  \n",
    "SVC_clsfr.fit(xTrain,yTrain.values.ravel()) \n",
    "yPred= SVC_clsfr.predict(xTest)\n",
    "accuracy_score(yTest,yPred)\n",
    "print(classification_report(yTest,yPred))\n",
    "sns.heatmap(confusion_matrix(yTest,yPred),annot=True)"
   ]
  },
  {
   "cell_type": "code",
   "execution_count": 17,
   "id": "a7e37c62",
   "metadata": {},
   "outputs": [
    {
     "data": {
      "image/png": "[encoded data removed]",
      "text/plain": [
       "<Figure size 1728x864 with 1 Axes>"
      ]
     },
     "metadata": {
      "needs_background": "light"
     },
     "output_type": "display_data"
    },
    {
     "name": "stdout",
     "output_type": "stream",
     "text": [
      "              precision    recall  f1-score   support\n",
      "\n",
      "           0       1.00      1.00      1.00       367\n",
      "           1       1.00      1.00      1.00       193\n",
      "\n",
      "    accuracy                           1.00       560\n",
      "   macro avg       1.00      1.00      1.00       560\n",
      "weighted avg       1.00      1.00      1.00       560\n",
      "\n"
     ]
    },
    {
     "data": {
      "text/plain": [
       "<AxesSubplot:>"
      ]
     },
     "execution_count": 17,
     "metadata": {},
     "output_type": "execute_result"
    },
    {
     "data": {
      "image/png": "[encoded data removed]",
      "text/plain": [
       "<Figure size 432x288 with 2 Axes>"
      ]
     },
     "metadata": {
      "needs_background": "light"
     },
     "output_type": "display_data"
    }
   ],
   "source": [
    "dTree = DecisionTreeClassifier(max_depth=10, max_features=8)   #бо дерево жадібне\n",
    "dTree.fit(xTrain, yTrain)\n",
    "plt.figure(figsize=(24,12))\n",
    "plot_tree(dTree, fontsize=10)\n",
    "plt.show()\n",
    "yPred = dTree.predict(xTest)\n",
    "print(classification_report(yTest,yPred))\n",
    "yPred= dTree.predict(xTest)\n",
    "accuracy_score(yTest,yPred)\n",
    "sns.heatmap(confusion_matrix(yTest,yPred),annot=True)"
   ]
  },
  {
   "cell_type": "code",
   "execution_count": 18,
   "id": "dadb344e",
   "metadata": {},
   "outputs": [
    {
     "name": "stdout",
     "output_type": "stream",
     "text": [
      "Estimated no. of clusters: 2\n",
      "Estimated no. of noise points: 158\n"
     ]
    }
   ],
   "source": [
    "from sklearn.cluster import DBSCAN\n",
    "\n",
    "epsilon = 1000\n",
    "min_samples = 13\n",
    "\n",
    "db = DBSCAN(eps=epsilon, min_samples=min_samples).fit(df)\n",
    "labels = db.labels_\n",
    "no_clusters = len(np.unique(labels) )\n",
    "no_noise = np.sum(np.array(labels) == -1, axis=0)\n",
    "print('Estimated no. of clusters: %d' % no_clusters)\n",
    "print('Estimated no. of noise points: %d' % no_noise)"
   ]
  },
  {
   "cell_type": "code",
   "execution_count": 19,
   "id": "b867471e",
   "metadata": {},
   "outputs": [],
   "source": [
    "continuousColumns = [\"api_access_uniqueness\",\"sequence_length(count)\", \"vsession_duration(min)\",\"ip_type\",\"num_sessions\", \"num_users\", \"num_unique_apis\", \"source\"]\n",
    "minMaxScaler = MinMaxScaler() #масштабирует в приделах задан. диапазона 0-1, именно колонки\n",
    "scaledColums = pd.DataFrame(minMaxScaler.fit_transform(df[continuousColumns]),columns=continuousColumns)"
   ]
  },
  {
   "cell_type": "code",
   "execution_count": 20,
   "id": "c41aaa4c",
   "metadata": {},
   "outputs": [],
   "source": [
    "from sklearn.decomposition import PCA\n",
    "pca = PCA()   \n",
    "X_pca = pca.fit_transform(scaledColums)  #пса работает на колонках\n",
    "exp_var_pca = pca.explained_variance_ratio_  #вектор- дисперсия для кажд столбика(фичи) \n",
    "cum_sum_eigenvalues = np.cumsum(exp_var_pca) #вернет сумму по дисперсии"
   ]
  },
  {
   "cell_type": "code",
   "execution_count": 21,
   "id": "a555f905",
   "metadata": {},
   "outputs": [
    {
     "data": {
      "image/png": "[encoded data removed]",
      "text/plain": [
       "<Figure size 432x288 with 1 Axes>"
      ]
     },
     "metadata": {
      "needs_background": "light"
     },
     "output_type": "display_data"
    }
   ],
   "source": [
    "plt.bar(range(0,len(exp_var_pca)), exp_var_pca, align='center', label='Explained variance')\n",
    "plt.step(range(0,len(cum_sum_eigenvalues)), cum_sum_eigenvalues, where='mid',label='Cumulative explained variance')\n",
    "plt.ylabel('Explained variance')\n",
    "plt.xlabel('Principal component')\n",
    "plt.legend(loc='best')\n",
    "plt.tight_layout()\n",
    "plt.grid()#збережемо 65% з 2ма PCA"
   ]
  },
  {
   "cell_type": "code",
   "execution_count": 22,
   "id": "d3340534",
   "metadata": {},
   "outputs": [
    {
     "data": {
      "text/plain": [
       "<matplotlib.legend.Legend at 0x1feae4d76c8>"
      ]
     },
     "execution_count": 22,
     "metadata": {},
     "output_type": "execute_result"
    },
    {
     "data": {
      "image/png": "[encoded data removed]",
      "text/plain": [
       "<Figure size 432x288 with 1 Axes>"
      ]
     },
     "metadata": {
      "needs_background": "light"
     },
     "output_type": "display_data"
    }
   ],
   "source": [
    "pca = PCA(n_components=2)\n",
    "pca_result = pca.fit_transform(df)\n",
    "\n",
    "pca_result_df = pd.DataFrame({'pca_1': pca_result[:,0], 'pca_2': pca_result[:,1], 'label': df.classification})\n",
    "\n",
    "fig, ax = plt.subplots(1)\n",
    "sns.scatterplot(x='pca_1', y='pca_2', hue='label', data=pca_result_df, ax=ax,s=10)\n",
    "lim = (pca_result.min()-5, pca_result.max()+5)\n",
    "ax.legend(bbox_to_anchor=(1.05, 1), loc=2, borderaxespad=0.0)"
   ]
  },
  {
   "cell_type": "code",
   "execution_count": 23,
   "id": "6597f80b",
   "metadata": {},
   "outputs": [
    {
     "data": {
      "image/png": "[encoded data removed]",
      "text/plain": [
       "<Figure size 1440x1440 with 1 Axes>"
      ]
     },
     "metadata": {
      "needs_background": "light"
     },
     "output_type": "display_data"
    }
   ],
   "source": [
    "from sklearn.cluster import AgglomerativeClustering\n",
    "from scipy.cluster import hierarchy\n",
    "from scipy.cluster.hierarchy import dendrogram , linkage\n",
    "\n",
    "Z = hierarchy.linkage(df, 'ward')\n",
    "plt.figure(figsize=(20, 20))\n",
    "dn = hierarchy.dendrogram(Z)"
   ]
  },
  {
   "cell_type": "code",
   "execution_count": null,
   "id": "015f2b94",
   "metadata": {},
   "outputs": [],
   "source": []
  }
 ],
 "metadata": {
  "kernelspec": {
   "display_name": "Python 3 (ipykernel)",
   "language": "python",
   "name": "python3"
  },
  "language_info": {
   "codemirror_mode": {
    "name": "ipython",
    "version": 3
   },
   "file_extension": ".py",
   "mimetype": "text/x-python",
   "name": "python",
   "nbconvert_exporter": "python",
   "pygments_lexer": "ipython3",
   "version": "3.7.9"
  }
 },
 "nbformat": 4,
 "nbformat_minor": 5
}
